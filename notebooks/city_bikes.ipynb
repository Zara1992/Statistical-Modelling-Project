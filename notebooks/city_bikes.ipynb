{
 "cells": [
  {
   "cell_type": "markdown",
   "metadata": {},
   "source": [
    "# CityBikes"
   ]
  },
  {
   "cell_type": "markdown",
   "metadata": {},
   "source": [
    "Send a request to CityBikes for the city of your choice. "
   ]
  },
  {
   "cell_type": "code",
   "execution_count": null,
   "metadata": {},
   "outputs": [],
   "source": [
    "import json\n",
    "import pandas as pd\n",
    "import numpy as np\n",
    "from IPython.display import JSON\n",
    "import requests\n",
    "import os\n",
    "import urllib"
   ]
  },
  {
   "cell_type": "code",
   "execution_count": null,
   "metadata": {},
   "outputs": [],
   "source": [
    "city_name = \"Slough\"\n",
    "url = f\"http://api.citybik.es/v2/networks?city={city_name}\"\n",
    "\n",
    "response = requests.get(url)\n",
    "\n",
    "if response.status_code == 200:\n",
    "    data = response.json()\n",
    "    for network in data[\"networks\"]:\n",
    "        if network[\"location\"][\"city\"] == city_name:\n",
    "            print(f\"ID: {network['id']}\")\n",
    "            print(f\"Name: {network['name']}\")\n",
    "            print(f\"Company: {network['company']}\")\n",
    "else:\n",
    "    print(f\"Request failed with status code {response.status_code}\")"
   ]
  },
  {
   "cell_type": "markdown",
   "metadata": {},
   "source": [
    "Parse through the response to get the details you want for the bike stations in that city (latitude, longitude, number of bikes). "
   ]
  },
  {
   "cell_type": "code",
   "execution_count": null,
   "metadata": {},
   "outputs": [],
   "source": [
    "abccity = \"Slough\"\n",
    "\n",
    "def my_network(city_arg):\n",
    "    link1 = \"http://api.citybik.es/v2/networks\"\n",
    "    response1 = requests.get(link1)\n",
    "    data1 = response1.json()\n",
    "\n",
    "    network_id = \"\"\n",
    "    for network in data1[\"networks\"]:\n",
    "        if network[\"location\"][\"city\"] == city_arg:\n",
    "            network_id = network[\"id\"]\n",
    "            return network_id\n",
    "            break\n",
    "    if not network_id:\n",
    "        print(\"City not found in the API\")\n",
    "        exit()\n",
    "\n",
    "print(my_network(abccity))\n",
    "\n",
    "var_network_id = my_network(abccity)\n",
    "\n",
    "def station_data (arg_id):\n",
    "    var_response = requests.get(f'http://api.citybik.es/v2/networks/{arg_id}')\n",
    "    data = var_response.json()\n",
    "    stations = data['network']['stations']\n",
    "    arr_station_data = []\n",
    "    for station in stations:\n",
    "        arr_station_data.append({\n",
    "            'name': station['name'],\n",
    "            'free_bikes': station['free_bikes'],\n",
    "            'longitude': station['longitude'],\n",
    "            'latitude': station['latitude']\n",
    "        })\n",
    "    \n",
    "    return arr_station_data\n",
    "\n",
    "print(station_data(var_network_id))"
   ]
  },
  {
   "cell_type": "markdown",
   "metadata": {},
   "source": [
    "Put your parsed results into a DataFrame."
   ]
  },
  {
   "cell_type": "code",
   "execution_count": null,
   "metadata": {},
   "outputs": [],
   "source": [
    "def main(arg_jkcity):\n",
    "    city_id = my_network(abccity)\n",
    "    if not city_id:\n",
    "        print(f\"No network found for the city '{arg_jkcity}'\")\n",
    "        return\n",
    "    meowstation_data = station_data(city_id)\n",
    "    df = pd.DataFrame(meowstation_data)\n",
    "    return df\n",
    " # Example\n",
    "df = main(abccity)\n",
    "print(df)"
   ]
  },
  {
   "cell_type": "code",
   "execution_count": null,
   "metadata": {},
   "outputs": [],
   "source": [
    "Total = df['free_bikes'].sum()\n",
    "print(Total)"
   ]
  },
  {
   "cell_type": "code",
   "execution_count": null,
   "metadata": {},
   "outputs": [],
   "source": [
    "df.to_csv(r'C:\\Users\\zarah\\Desktop\\Lighthouse Labs\\Week3_EDA\\Statistical-Modelling-Project\\citybikes.csv', index=False, header=True)\n"
   ]
  }
 ],
 "metadata": {
  "kernelspec": {
   "display_name": "base",
   "language": "python",
   "name": "python3"
  },
  "language_info": {
   "codemirror_mode": {
    "name": "ipython",
    "version": 3
   },
   "file_extension": ".py",
   "mimetype": "text/x-python",
   "name": "python",
   "nbconvert_exporter": "python",
   "pygments_lexer": "ipython3",
   "version": "3.9.13"
  },
  "vscode": {
   "interpreter": {
    "hash": "21a44ce51b2455586308d7e2be6e57388f0fdfa4326b90885d398dc353b37081"
   }
  }
 },
 "nbformat": 4,
 "nbformat_minor": 4
}
