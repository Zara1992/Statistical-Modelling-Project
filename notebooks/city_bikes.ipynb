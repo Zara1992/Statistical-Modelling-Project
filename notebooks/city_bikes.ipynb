{
 "cells": [
  {
   "cell_type": "markdown",
   "metadata": {},
   "source": [
    "# CityBikes"
   ]
  },
  {
   "cell_type": "markdown",
   "metadata": {},
   "source": [
    "Send a request to CityBikes for the city of your choice. "
   ]
  },
  {
   "cell_type": "code",
   "execution_count": 1,
   "metadata": {},
   "outputs": [],
   "source": [
    "import json\n",
    "import pandas as pd\n",
    "import numpy as np\n",
    "from IPython.display import JSON\n",
    "import requests\n",
    "import os\n",
    "import urllib"
   ]
  },
  {
   "cell_type": "code",
   "execution_count": 2,
   "metadata": {},
   "outputs": [
    {
     "name": "stdout",
     "output_type": "stream",
     "text": [
      "ID: cycle-hire-slough\n",
      "Name: Cycle Hire\n",
      "Company: ['Groundwork', 'Slough Borough Council', 'ITS']\n"
     ]
    }
   ],
   "source": [
    "city_name = \"Slough\"\n",
    "url = f\"http://api.citybik.es/v2/networks?city={city_name}\"\n",
    "\n",
    "response = requests.get(url)\n",
    "\n",
    "if response.status_code == 200:\n",
    "    data = response.json()\n",
    "    for network in data[\"networks\"]:\n",
    "        if network[\"location\"][\"city\"] == city_name:\n",
    "            print(f\"ID: {network['id']}\")\n",
    "            print(f\"Name: {network['name']}\")\n",
    "            print(f\"Company: {network['company']}\")\n",
    "else:\n",
    "    print(f\"Request failed with status code {response.status_code}\")"
   ]
  },
  {
   "cell_type": "markdown",
   "metadata": {},
   "source": [
    "Parse through the response to get the details you want for the bike stations in that city (latitude, longitude, number of bikes). "
   ]
  },
  {
   "cell_type": "code",
   "execution_count": 3,
   "metadata": {},
   "outputs": [
    {
     "name": "stdout",
     "output_type": "stream",
     "text": [
      "cycle-hire-slough\n",
      "[{'name': '1 Slough Train Station', 'free_bikes': 27, 'longitude': -0.59156182, 'latitude': 51.51135}, {'name': '2 Burnham Train Station', 'free_bikes': 14, 'longitude': -0.6452942, 'latitude': 51.523823}, {'name': '3 Slough Trading Estate', 'free_bikes': 30, 'longitude': -0.62563661, 'latitude': 51.516508}, {'name': '4 Slough Council', 'free_bikes': 28, 'longitude': -0.607722, 'latitude': 51.510629}, {'name': '5 Trelawney Avenue', 'free_bikes': 18, 'longitude': -0.554815, 'latitude': 51.501937}, {'name': '7 Sutton Lane', 'free_bikes': 4, 'longitude': -0.534806, 'latitude': 51.489517}, {'name': '8 Yarmouth Road', 'free_bikes': 11, 'longitude': -0.616663, 'latitude': 51.519919}, {'name': '9 Bath Road Shopping Centre', 'free_bikes': 10, 'longitude': -0.635472, 'latitude': 51.520432}, {'name': '10 Chalvey High Street', 'free_bikes': 3, 'longitude': -0.60676999, 'latitude': 51.506562}, {'name': '11 Britwell', 'free_bikes': 5, 'longitude': -0.63102588, 'latitude': 51.531906}, {'name': '12 Windsor Road', 'free_bikes': 18, 'longitude': -0.59673975, 'latitude': 51.507274}, {'name': '13 Arbour Park', 'free_bikes': 26, 'longitude': -0.58962592, 'latitude': 51.519485}, {'name': '14 Wexham Road', 'free_bikes': 18, 'longitude': -0.57820873, 'latitude': 51.518459}, {'name': '15 The Curve', 'free_bikes': 21, 'longitude': -0.59497885, 'latitude': 51.510246}, {'name': '16 Langley', 'free_bikes': 22, 'longitude': -0.54318756, 'latitude': 51.507257}, {'name': '17 Wexham Hospital', 'free_bikes': 2, 'longitude': -0.5767782, 'latitude': 51.532348}, {'name': '6 O2', 'free_bikes': 10, 'longitude': -0.63086763, 'latitude': 51.518988}]\n"
     ]
    }
   ],
   "source": [
    "abccity = \"Slough\"\n",
    "\n",
    "def my_network(city_arg):\n",
    "    link1 = \"http://api.citybik.es/v2/networks\"\n",
    "    response1 = requests.get(link1)\n",
    "    data1 = response1.json()\n",
    "\n",
    "    network_id = \"\"\n",
    "    for network in data1[\"networks\"]:\n",
    "        if network[\"location\"][\"city\"] == city_arg:\n",
    "            network_id = network[\"id\"]\n",
    "            return network_id\n",
    "            break\n",
    "    if not network_id:\n",
    "        print(\"City not found in the API\")\n",
    "        exit()\n",
    "\n",
    "print(my_network(abccity))\n",
    "\n",
    "var_network_id = my_network(abccity)\n",
    "\n",
    "def station_data (arg_id):\n",
    "    var_response = requests.get(f'http://api.citybik.es/v2/networks/{arg_id}')\n",
    "    data = var_response.json()\n",
    "    stations = data['network']['stations']\n",
    "    arr_station_data = []\n",
    "    for station in stations:\n",
    "        arr_station_data.append({\n",
    "            'name': station['name'],\n",
    "            'free_bikes': station['free_bikes'],\n",
    "            'longitude': station['longitude'],\n",
    "            'latitude': station['latitude']\n",
    "        })\n",
    "    \n",
    "    return arr_station_data\n",
    "\n",
    "print(station_data(var_network_id))"
   ]
  },
  {
   "cell_type": "markdown",
   "metadata": {},
   "source": [
    "Put your parsed results into a DataFrame."
   ]
  },
  {
   "cell_type": "code",
   "execution_count": 4,
   "metadata": {},
   "outputs": [
    {
     "name": "stdout",
     "output_type": "stream",
     "text": [
      "                           name  free_bikes  longitude   latitude\n",
      "0        1 Slough Train Station          27  -0.591562  51.511350\n",
      "1       2 Burnham Train Station          14  -0.645294  51.523823\n",
      "2       3 Slough Trading Estate          30  -0.625637  51.516508\n",
      "3              4 Slough Council          28  -0.607722  51.510629\n",
      "4            5 Trelawney Avenue          18  -0.554815  51.501937\n",
      "5                 7 Sutton Lane           4  -0.534806  51.489517\n",
      "6               8 Yarmouth Road          11  -0.616663  51.519919\n",
      "7   9 Bath Road Shopping Centre          10  -0.635472  51.520432\n",
      "8        10 Chalvey High Street           3  -0.606770  51.506562\n",
      "9                   11 Britwell           5  -0.631026  51.531906\n",
      "10              12 Windsor Road          18  -0.596740  51.507274\n",
      "11               13 Arbour Park          26  -0.589626  51.519485\n",
      "12               14 Wexham Road          18  -0.578209  51.518459\n",
      "13                 15 The Curve          21  -0.594979  51.510246\n",
      "14                   16 Langley          22  -0.543188  51.507257\n",
      "15           17 Wexham Hospital           2  -0.576778  51.532348\n",
      "16                         6 O2          10  -0.630868  51.518988\n"
     ]
    }
   ],
   "source": [
    "def main(arg_jkcity):\n",
    "    city_id = my_network(abccity)\n",
    "    if not city_id:\n",
    "        print(f\"No network found for the city '{arg_jkcity}'\")\n",
    "        return\n",
    "    meowstation_data = station_data(city_id)\n",
    "    df = pd.DataFrame(meowstation_data)\n",
    "    return df\n",
    " # Example\n",
    "df = main(abccity)\n",
    "print(df)"
   ]
  },
  {
   "cell_type": "code",
   "execution_count": 5,
   "metadata": {},
   "outputs": [
    {
     "name": "stdout",
     "output_type": "stream",
     "text": [
      "267\n"
     ]
    }
   ],
   "source": [
    "Total = df['free_bikes'].sum()\n",
    "print(Total)"
   ]
  },
  {
   "cell_type": "code",
   "execution_count": 7,
   "metadata": {},
   "outputs": [],
   "source": [
    "df.to_csv(r'C:\\Users\\zarah\\Desktop\\Lighthouse Labs\\Week3_EDA\\Statistical-Modelling-Project - FINAL\\citybikes.csv', index=False, header=True)\n"
   ]
  }
 ],
 "metadata": {
  "kernelspec": {
   "display_name": "base",
   "language": "python",
   "name": "python3"
  },
  "language_info": {
   "codemirror_mode": {
    "name": "ipython",
    "version": 3
   },
   "file_extension": ".py",
   "mimetype": "text/x-python",
   "name": "python",
   "nbconvert_exporter": "python",
   "pygments_lexer": "ipython3",
   "version": "3.9.13"
  },
  "vscode": {
   "interpreter": {
    "hash": "21a44ce51b2455586308d7e2be6e57388f0fdfa4326b90885d398dc353b37081"
   }
  }
 },
 "nbformat": 4,
 "nbformat_minor": 4
}
